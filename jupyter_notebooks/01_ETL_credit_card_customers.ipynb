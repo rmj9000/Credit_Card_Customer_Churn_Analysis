{
  "cells": [
    {
      "cell_type": "markdown",
      "metadata": {},
      "source": [
        "# Extract, Transform, Load\n",
        "\n",
        "## Load and Inspect the Data\n",
        "\n",
        "Understand the raw data — check columns, types, shape, duplicates and any obvious issues"
      ]
    },
    {
      "cell_type": "code",
      "execution_count": 24,
      "metadata": {},
      "outputs": [],
      "source": [
        "#Import necessary libraries\n",
        "import pandas as pd\n",
        "import numpy as np\n",
        "import matplotlib.pyplot as plt\n",
        "import seaborn as sns\n",
        "import os\n",
        "os.makedirs(\"images\", exist_ok=True)"
      ]
    },
    {
      "cell_type": "code",
      "execution_count": 25,
      "metadata": {},
      "outputs": [
        {
          "data": {
            "text/html": [
              "<div>\n",
              "<style scoped>\n",
              "    .dataframe tbody tr th:only-of-type {\n",
              "        vertical-align: middle;\n",
              "    }\n",
              "\n",
              "    .dataframe tbody tr th {\n",
              "        vertical-align: top;\n",
              "    }\n",
              "\n",
              "    .dataframe thead th {\n",
              "        text-align: right;\n",
              "    }\n",
              "</style>\n",
              "<table border=\"1\" class=\"dataframe\">\n",
              "  <thead>\n",
              "    <tr style=\"text-align: right;\">\n",
              "      <th></th>\n",
              "      <th>CLIENTNUM</th>\n",
              "      <th>Attrition_Flag</th>\n",
              "      <th>Customer_Age</th>\n",
              "      <th>Gender</th>\n",
              "      <th>Dependent_count</th>\n",
              "      <th>Education_Level</th>\n",
              "      <th>Marital_Status</th>\n",
              "      <th>Income_Category</th>\n",
              "      <th>Card_Category</th>\n",
              "      <th>Months_on_book</th>\n",
              "      <th>...</th>\n",
              "      <th>Credit_Limit</th>\n",
              "      <th>Total_Revolving_Bal</th>\n",
              "      <th>Avg_Open_To_Buy</th>\n",
              "      <th>Total_Amt_Chng_Q4_Q1</th>\n",
              "      <th>Total_Trans_Amt</th>\n",
              "      <th>Total_Trans_Ct</th>\n",
              "      <th>Total_Ct_Chng_Q4_Q1</th>\n",
              "      <th>Avg_Utilization_Ratio</th>\n",
              "      <th>Naive_Bayes_Classifier_Attrition_Flag_Card_Category_Contacts_Count_12_mon_Dependent_count_Education_Level_Months_Inactive_12_mon_1</th>\n",
              "      <th>Naive_Bayes_Classifier_Attrition_Flag_Card_Category_Contacts_Count_12_mon_Dependent_count_Education_Level_Months_Inactive_12_mon_2</th>\n",
              "    </tr>\n",
              "  </thead>\n",
              "  <tbody>\n",
              "    <tr>\n",
              "      <th>0</th>\n",
              "      <td>768805383</td>\n",
              "      <td>Existing Customer</td>\n",
              "      <td>45</td>\n",
              "      <td>M</td>\n",
              "      <td>3</td>\n",
              "      <td>High School</td>\n",
              "      <td>Married</td>\n",
              "      <td>$60K - $80K</td>\n",
              "      <td>Blue</td>\n",
              "      <td>39</td>\n",
              "      <td>...</td>\n",
              "      <td>12691.0</td>\n",
              "      <td>777</td>\n",
              "      <td>11914.0</td>\n",
              "      <td>1.335</td>\n",
              "      <td>1144</td>\n",
              "      <td>42</td>\n",
              "      <td>1.625</td>\n",
              "      <td>0.061</td>\n",
              "      <td>0.000093</td>\n",
              "      <td>0.99991</td>\n",
              "    </tr>\n",
              "    <tr>\n",
              "      <th>1</th>\n",
              "      <td>818770008</td>\n",
              "      <td>Existing Customer</td>\n",
              "      <td>49</td>\n",
              "      <td>F</td>\n",
              "      <td>5</td>\n",
              "      <td>Graduate</td>\n",
              "      <td>Single</td>\n",
              "      <td>Less than $40K</td>\n",
              "      <td>Blue</td>\n",
              "      <td>44</td>\n",
              "      <td>...</td>\n",
              "      <td>8256.0</td>\n",
              "      <td>864</td>\n",
              "      <td>7392.0</td>\n",
              "      <td>1.541</td>\n",
              "      <td>1291</td>\n",
              "      <td>33</td>\n",
              "      <td>3.714</td>\n",
              "      <td>0.105</td>\n",
              "      <td>0.000057</td>\n",
              "      <td>0.99994</td>\n",
              "    </tr>\n",
              "    <tr>\n",
              "      <th>2</th>\n",
              "      <td>713982108</td>\n",
              "      <td>Existing Customer</td>\n",
              "      <td>51</td>\n",
              "      <td>M</td>\n",
              "      <td>3</td>\n",
              "      <td>Graduate</td>\n",
              "      <td>Married</td>\n",
              "      <td>$80K - $120K</td>\n",
              "      <td>Blue</td>\n",
              "      <td>36</td>\n",
              "      <td>...</td>\n",
              "      <td>3418.0</td>\n",
              "      <td>0</td>\n",
              "      <td>3418.0</td>\n",
              "      <td>2.594</td>\n",
              "      <td>1887</td>\n",
              "      <td>20</td>\n",
              "      <td>2.333</td>\n",
              "      <td>0.000</td>\n",
              "      <td>0.000021</td>\n",
              "      <td>0.99998</td>\n",
              "    </tr>\n",
              "    <tr>\n",
              "      <th>3</th>\n",
              "      <td>769911858</td>\n",
              "      <td>Existing Customer</td>\n",
              "      <td>40</td>\n",
              "      <td>F</td>\n",
              "      <td>4</td>\n",
              "      <td>High School</td>\n",
              "      <td>Unknown</td>\n",
              "      <td>Less than $40K</td>\n",
              "      <td>Blue</td>\n",
              "      <td>34</td>\n",
              "      <td>...</td>\n",
              "      <td>3313.0</td>\n",
              "      <td>2517</td>\n",
              "      <td>796.0</td>\n",
              "      <td>1.405</td>\n",
              "      <td>1171</td>\n",
              "      <td>20</td>\n",
              "      <td>2.333</td>\n",
              "      <td>0.760</td>\n",
              "      <td>0.000134</td>\n",
              "      <td>0.99987</td>\n",
              "    </tr>\n",
              "    <tr>\n",
              "      <th>4</th>\n",
              "      <td>709106358</td>\n",
              "      <td>Existing Customer</td>\n",
              "      <td>40</td>\n",
              "      <td>M</td>\n",
              "      <td>3</td>\n",
              "      <td>Uneducated</td>\n",
              "      <td>Married</td>\n",
              "      <td>$60K - $80K</td>\n",
              "      <td>Blue</td>\n",
              "      <td>21</td>\n",
              "      <td>...</td>\n",
              "      <td>4716.0</td>\n",
              "      <td>0</td>\n",
              "      <td>4716.0</td>\n",
              "      <td>2.175</td>\n",
              "      <td>816</td>\n",
              "      <td>28</td>\n",
              "      <td>2.500</td>\n",
              "      <td>0.000</td>\n",
              "      <td>0.000022</td>\n",
              "      <td>0.99998</td>\n",
              "    </tr>\n",
              "  </tbody>\n",
              "</table>\n",
              "<p>5 rows × 23 columns</p>\n",
              "</div>"
            ],
            "text/plain": [
              "   CLIENTNUM     Attrition_Flag  Customer_Age Gender  Dependent_count  \\\n",
              "0  768805383  Existing Customer            45      M                3   \n",
              "1  818770008  Existing Customer            49      F                5   \n",
              "2  713982108  Existing Customer            51      M                3   \n",
              "3  769911858  Existing Customer            40      F                4   \n",
              "4  709106358  Existing Customer            40      M                3   \n",
              "\n",
              "  Education_Level Marital_Status Income_Category Card_Category  \\\n",
              "0     High School        Married     $60K - $80K          Blue   \n",
              "1        Graduate         Single  Less than $40K          Blue   \n",
              "2        Graduate        Married    $80K - $120K          Blue   \n",
              "3     High School        Unknown  Less than $40K          Blue   \n",
              "4      Uneducated        Married     $60K - $80K          Blue   \n",
              "\n",
              "   Months_on_book  ...  Credit_Limit  Total_Revolving_Bal  Avg_Open_To_Buy  \\\n",
              "0              39  ...       12691.0                  777          11914.0   \n",
              "1              44  ...        8256.0                  864           7392.0   \n",
              "2              36  ...        3418.0                    0           3418.0   \n",
              "3              34  ...        3313.0                 2517            796.0   \n",
              "4              21  ...        4716.0                    0           4716.0   \n",
              "\n",
              "   Total_Amt_Chng_Q4_Q1  Total_Trans_Amt  Total_Trans_Ct  Total_Ct_Chng_Q4_Q1  \\\n",
              "0                 1.335             1144              42                1.625   \n",
              "1                 1.541             1291              33                3.714   \n",
              "2                 2.594             1887              20                2.333   \n",
              "3                 1.405             1171              20                2.333   \n",
              "4                 2.175              816              28                2.500   \n",
              "\n",
              "   Avg_Utilization_Ratio  \\\n",
              "0                  0.061   \n",
              "1                  0.105   \n",
              "2                  0.000   \n",
              "3                  0.760   \n",
              "4                  0.000   \n",
              "\n",
              "   Naive_Bayes_Classifier_Attrition_Flag_Card_Category_Contacts_Count_12_mon_Dependent_count_Education_Level_Months_Inactive_12_mon_1  \\\n",
              "0                                           0.000093                                                                                    \n",
              "1                                           0.000057                                                                                    \n",
              "2                                           0.000021                                                                                    \n",
              "3                                           0.000134                                                                                    \n",
              "4                                           0.000022                                                                                    \n",
              "\n",
              "   Naive_Bayes_Classifier_Attrition_Flag_Card_Category_Contacts_Count_12_mon_Dependent_count_Education_Level_Months_Inactive_12_mon_2  \n",
              "0                                            0.99991                                                                                   \n",
              "1                                            0.99994                                                                                   \n",
              "2                                            0.99998                                                                                   \n",
              "3                                            0.99987                                                                                   \n",
              "4                                            0.99998                                                                                   \n",
              "\n",
              "[5 rows x 23 columns]"
            ]
          },
          "execution_count": 25,
          "metadata": {},
          "output_type": "execute_result"
        }
      ],
      "source": [
        "# Load the dataset\n",
        "df = pd.read_csv(\"../data/inputs/raw/BankChurners.csv\")\n",
        "df.head()"
      ]
    },
    {
      "cell_type": "code",
      "execution_count": 26,
      "metadata": {},
      "outputs": [
        {
          "data": {
            "text/plain": [
              "(10127, 23)"
            ]
          },
          "execution_count": 26,
          "metadata": {},
          "output_type": "execute_result"
        }
      ],
      "source": [
        "df.shape"
      ]
    },
    {
      "cell_type": "code",
      "execution_count": 27,
      "metadata": {},
      "outputs": [
        {
          "name": "stdout",
          "output_type": "stream",
          "text": [
            "<class 'pandas.core.frame.DataFrame'>\n",
            "RangeIndex: 10127 entries, 0 to 10126\n",
            "Data columns (total 23 columns):\n",
            " #   Column                                                                                                                              Non-Null Count  Dtype  \n",
            "---  ------                                                                                                                              --------------  -----  \n",
            " 0   CLIENTNUM                                                                                                                           10127 non-null  int64  \n",
            " 1   Attrition_Flag                                                                                                                      10127 non-null  object \n",
            " 2   Customer_Age                                                                                                                        10127 non-null  int64  \n",
            " 3   Gender                                                                                                                              10127 non-null  object \n",
            " 4   Dependent_count                                                                                                                     10127 non-null  int64  \n",
            " 5   Education_Level                                                                                                                     10127 non-null  object \n",
            " 6   Marital_Status                                                                                                                      10127 non-null  object \n",
            " 7   Income_Category                                                                                                                     10127 non-null  object \n",
            " 8   Card_Category                                                                                                                       10127 non-null  object \n",
            " 9   Months_on_book                                                                                                                      10127 non-null  int64  \n",
            " 10  Total_Relationship_Count                                                                                                            10127 non-null  int64  \n",
            " 11  Months_Inactive_12_mon                                                                                                              10127 non-null  int64  \n",
            " 12  Contacts_Count_12_mon                                                                                                               10127 non-null  int64  \n",
            " 13  Credit_Limit                                                                                                                        10127 non-null  float64\n",
            " 14  Total_Revolving_Bal                                                                                                                 10127 non-null  int64  \n",
            " 15  Avg_Open_To_Buy                                                                                                                     10127 non-null  float64\n",
            " 16  Total_Amt_Chng_Q4_Q1                                                                                                                10127 non-null  float64\n",
            " 17  Total_Trans_Amt                                                                                                                     10127 non-null  int64  \n",
            " 18  Total_Trans_Ct                                                                                                                      10127 non-null  int64  \n",
            " 19  Total_Ct_Chng_Q4_Q1                                                                                                                 10127 non-null  float64\n",
            " 20  Avg_Utilization_Ratio                                                                                                               10127 non-null  float64\n",
            " 21  Naive_Bayes_Classifier_Attrition_Flag_Card_Category_Contacts_Count_12_mon_Dependent_count_Education_Level_Months_Inactive_12_mon_1  10127 non-null  float64\n",
            " 22  Naive_Bayes_Classifier_Attrition_Flag_Card_Category_Contacts_Count_12_mon_Dependent_count_Education_Level_Months_Inactive_12_mon_2  10127 non-null  float64\n",
            "dtypes: float64(7), int64(10), object(6)\n",
            "memory usage: 1.8+ MB\n"
          ]
        },
        {
          "data": {
            "text/plain": [
              "CLIENTNUM                                                                                                                             0\n",
              "Attrition_Flag                                                                                                                        0\n",
              "Customer_Age                                                                                                                          0\n",
              "Gender                                                                                                                                0\n",
              "Dependent_count                                                                                                                       0\n",
              "Education_Level                                                                                                                       0\n",
              "Marital_Status                                                                                                                        0\n",
              "Income_Category                                                                                                                       0\n",
              "Card_Category                                                                                                                         0\n",
              "Months_on_book                                                                                                                        0\n",
              "Total_Relationship_Count                                                                                                              0\n",
              "Months_Inactive_12_mon                                                                                                                0\n",
              "Contacts_Count_12_mon                                                                                                                 0\n",
              "Credit_Limit                                                                                                                          0\n",
              "Total_Revolving_Bal                                                                                                                   0\n",
              "Avg_Open_To_Buy                                                                                                                       0\n",
              "Total_Amt_Chng_Q4_Q1                                                                                                                  0\n",
              "Total_Trans_Amt                                                                                                                       0\n",
              "Total_Trans_Ct                                                                                                                        0\n",
              "Total_Ct_Chng_Q4_Q1                                                                                                                   0\n",
              "Avg_Utilization_Ratio                                                                                                                 0\n",
              "Naive_Bayes_Classifier_Attrition_Flag_Card_Category_Contacts_Count_12_mon_Dependent_count_Education_Level_Months_Inactive_12_mon_1    0\n",
              "Naive_Bayes_Classifier_Attrition_Flag_Card_Category_Contacts_Count_12_mon_Dependent_count_Education_Level_Months_Inactive_12_mon_2    0\n",
              "dtype: int64"
            ]
          },
          "execution_count": 27,
          "metadata": {},
          "output_type": "execute_result"
        }
      ],
      "source": [
        "# Check data types and null values\n",
        "df.info()\n",
        "df.isnull().sum()"
      ]
    },
    {
      "cell_type": "code",
      "execution_count": 28,
      "metadata": {},
      "outputs": [
        {
          "data": {
            "text/plain": [
              "0"
            ]
          },
          "execution_count": 28,
          "metadata": {},
          "output_type": "execute_result"
        }
      ],
      "source": [
        "# Check for duplicates\n",
        "df.duplicated().sum()"
      ]
    },
    {
      "cell_type": "markdown",
      "metadata": {},
      "source": [
        "# Basic Data Clean\n",
        "\n",
        "CLIENTNUM — a customer ID, not useful for analysis.\n",
        "Columns that start with Naive_Bayes_Classifier... we need to remove them "
      ]
    },
    {
      "cell_type": "code",
      "execution_count": 29,
      "metadata": {},
      "outputs": [],
      "source": [
        " # Drop CLIENTNUM as it is not needed\n",
        "df.drop(columns=['CLIENTNUM'], inplace=True)\n",
        "\n",
        "# drop all columns starting with \"Naive_Bayes_Classifier\"\n",
        "\n",
        "df = df.loc[:, ~df.columns.str.startswith('Naive_Bayes_Classifier')]\n"
      ]
    },
    {
      "cell_type": "markdown",
      "metadata": {},
      "source": [
        "# Create the Target Varieble (churn)\n",
        "\n",
        "We need to convert the text column Attrition_Flag into a binary column churn that we can use for analysis and modeling.\n",
        "\"Existing Customer\" → 0 (not churned)\n",
        "\"Attrited Customer\" → 1 (churned)"
      ]
    },
    {
      "cell_type": "code",
      "execution_count": 30,
      "metadata": {},
      "outputs": [
        {
          "data": {
            "text/plain": [
              "Churn\n",
              "0    8500\n",
              "1    1627\n",
              "Name: count, dtype: int64"
            ]
          },
          "execution_count": 30,
          "metadata": {},
          "output_type": "execute_result"
        }
      ],
      "source": [
        "# Create a new column 'Churn' based on 'Attrition_Flag'\n",
        "df['Churn'] = df['Attrition_Flag'].apply(lambda x: 1 if x == 'Attrited Customer' else 0)\n",
        "\n",
        "# Drop the 'Attrition_Flag' column\n",
        "df.drop(columns=[\"Attrition_Flag\"], inplace=True)\n",
        "\n",
        "# Check the distribution of the 'Churn' column\n",
        "df['Churn'].value_counts()"
      ]
    },
    {
      "cell_type": "markdown",
      "metadata": {},
      "source": [
        "# Encode Categorical Variables\n",
        "Convert text columns into numbers so that they can be used in analysis or modeling."
      ]
    },
    {
      "cell_type": "code",
      "execution_count": 31,
      "metadata": {},
      "outputs": [
        {
          "name": "stdout",
          "output_type": "stream",
          "text": [
            "<class 'pandas.core.frame.DataFrame'>\n",
            "RangeIndex: 10127 entries, 0 to 10126\n",
            "Data columns (total 33 columns):\n",
            " #   Column                          Non-Null Count  Dtype  \n",
            "---  ------                          --------------  -----  \n",
            " 0   Customer_Age                    10127 non-null  int64  \n",
            " 1   Dependent_count                 10127 non-null  int64  \n",
            " 2   Months_on_book                  10127 non-null  int64  \n",
            " 3   Total_Relationship_Count        10127 non-null  int64  \n",
            " 4   Months_Inactive_12_mon          10127 non-null  int64  \n",
            " 5   Contacts_Count_12_mon           10127 non-null  int64  \n",
            " 6   Credit_Limit                    10127 non-null  float64\n",
            " 7   Total_Revolving_Bal             10127 non-null  int64  \n",
            " 8   Avg_Open_To_Buy                 10127 non-null  float64\n",
            " 9   Total_Amt_Chng_Q4_Q1            10127 non-null  float64\n",
            " 10  Total_Trans_Amt                 10127 non-null  int64  \n",
            " 11  Total_Trans_Ct                  10127 non-null  int64  \n",
            " 12  Total_Ct_Chng_Q4_Q1             10127 non-null  float64\n",
            " 13  Avg_Utilization_Ratio           10127 non-null  float64\n",
            " 14  Churn                           10127 non-null  int64  \n",
            " 15  Gender_M                        10127 non-null  bool   \n",
            " 16  Education_Level_Doctorate       10127 non-null  bool   \n",
            " 17  Education_Level_Graduate        10127 non-null  bool   \n",
            " 18  Education_Level_High School     10127 non-null  bool   \n",
            " 19  Education_Level_Post-Graduate   10127 non-null  bool   \n",
            " 20  Education_Level_Uneducated      10127 non-null  bool   \n",
            " 21  Education_Level_Unknown         10127 non-null  bool   \n",
            " 22  Marital_Status_Married          10127 non-null  bool   \n",
            " 23  Marital_Status_Single           10127 non-null  bool   \n",
            " 24  Marital_Status_Unknown          10127 non-null  bool   \n",
            " 25  Income_Category_$40K - $60K     10127 non-null  bool   \n",
            " 26  Income_Category_$60K - $80K     10127 non-null  bool   \n",
            " 27  Income_Category_$80K - $120K    10127 non-null  bool   \n",
            " 28  Income_Category_Less than $40K  10127 non-null  bool   \n",
            " 29  Income_Category_Unknown         10127 non-null  bool   \n",
            " 30  Card_Category_Gold              10127 non-null  bool   \n",
            " 31  Card_Category_Platinum          10127 non-null  bool   \n",
            " 32  Card_Category_Silver            10127 non-null  bool   \n",
            "dtypes: bool(18), float64(5), int64(10)\n",
            "memory usage: 1.3 MB\n"
          ]
        }
      ],
      "source": [
        "# List of categorical columns to be encoded\n",
        "cat_cols = [\"Gender\", \"Education_Level\", \"Marital_Status\", \"Income_Category\",\n",
        "            \"Card_Category\"]\n",
        "# One-hot encode categorical columns\n",
        "df = pd.get_dummies(df, columns=cat_cols, drop_first=True)\n",
        "\n",
        "# check the data types after encoding\n",
        "df.info()"
      ]
    },
    {
      "cell_type": "markdown",
      "metadata": {},
      "source": [
        "# Feature Engineering\n",
        "Create new columns that help us better understand customer behavior and predict churn more effectively.\n",
        "\n",
        "* credit_limit_usage = How much of their credit limit the customer is using.\n",
        "\n",
        "* avg_balance\t= Ratio of average open-to-buy to total credit limit.\n",
        "\n",
        "* trans_per_month\t= Average number of transactions per month.\n",
        "\n",
        "* avg_amt_per_trans =\tAverage transaction amount\n",
        "\n",
        "* tenure_category = Grouping of customers based on how long they've been with the bank"
      ]
    },
    {
      "cell_type": "code",
      "execution_count": 32,
      "metadata": {},
      "outputs": [
        {
          "data": {
            "text/html": [
              "<div>\n",
              "<style scoped>\n",
              "    .dataframe tbody tr th:only-of-type {\n",
              "        vertical-align: middle;\n",
              "    }\n",
              "\n",
              "    .dataframe tbody tr th {\n",
              "        vertical-align: top;\n",
              "    }\n",
              "\n",
              "    .dataframe thead th {\n",
              "        text-align: right;\n",
              "    }\n",
              "</style>\n",
              "<table border=\"1\" class=\"dataframe\">\n",
              "  <thead>\n",
              "    <tr style=\"text-align: right;\">\n",
              "      <th></th>\n",
              "      <th>credit_limit_usage</th>\n",
              "      <th>avg_balance</th>\n",
              "      <th>trans_per_month</th>\n",
              "      <th>avg_amt_per_trans</th>\n",
              "      <th>tenure_category</th>\n",
              "    </tr>\n",
              "  </thead>\n",
              "  <tbody>\n",
              "    <tr>\n",
              "      <th>0</th>\n",
              "      <td>0.061224</td>\n",
              "      <td>0.938776</td>\n",
              "      <td>1.076923</td>\n",
              "      <td>27.238095</td>\n",
              "      <td>3-4 Years</td>\n",
              "    </tr>\n",
              "    <tr>\n",
              "      <th>1</th>\n",
              "      <td>0.104651</td>\n",
              "      <td>0.895349</td>\n",
              "      <td>0.750000</td>\n",
              "      <td>39.121212</td>\n",
              "      <td>3-4 Years</td>\n",
              "    </tr>\n",
              "    <tr>\n",
              "      <th>2</th>\n",
              "      <td>0.000000</td>\n",
              "      <td>1.000000</td>\n",
              "      <td>0.555556</td>\n",
              "      <td>94.350000</td>\n",
              "      <td>2-3 Years</td>\n",
              "    </tr>\n",
              "    <tr>\n",
              "      <th>3</th>\n",
              "      <td>0.759734</td>\n",
              "      <td>0.240266</td>\n",
              "      <td>0.588235</td>\n",
              "      <td>58.550000</td>\n",
              "      <td>2-3 Years</td>\n",
              "    </tr>\n",
              "    <tr>\n",
              "      <th>4</th>\n",
              "      <td>0.000000</td>\n",
              "      <td>1.000000</td>\n",
              "      <td>1.333333</td>\n",
              "      <td>29.142857</td>\n",
              "      <td>1-2 Years</td>\n",
              "    </tr>\n",
              "  </tbody>\n",
              "</table>\n",
              "</div>"
            ],
            "text/plain": [
              "   credit_limit_usage  avg_balance  trans_per_month  avg_amt_per_trans  \\\n",
              "0            0.061224     0.938776         1.076923          27.238095   \n",
              "1            0.104651     0.895349         0.750000          39.121212   \n",
              "2            0.000000     1.000000         0.555556          94.350000   \n",
              "3            0.759734     0.240266         0.588235          58.550000   \n",
              "4            0.000000     1.000000         1.333333          29.142857   \n",
              "\n",
              "  tenure_category  \n",
              "0       3-4 Years  \n",
              "1       3-4 Years  \n",
              "2       2-3 Years  \n",
              "3       2-3 Years  \n",
              "4       1-2 Years  "
            ]
          },
          "execution_count": 32,
          "metadata": {},
          "output_type": "execute_result"
        }
      ],
      "source": [
        "# 1. Credit limit usage ratio\n",
        "df[\"credit_limit_usage\"] = df[\"Total_Revolving_Bal\"] / df[\"Credit_Limit\"]\n",
        "\n",
        "# 2.Avarege available balance\n",
        "df[\"avg_balance\"] = df[\"Avg_Open_To_Buy\"] / df[\"Credit_Limit\"]\n",
        "\n",
        "# 3. Transaction per month\n",
        "df[\"trans_per_month\"] = df[\"Total_Trans_Ct\"] / df[\"Months_on_book\"]\n",
        "\n",
        "# 4. Average amount per transaction\n",
        "df[\"avg_amt_per_trans\"] = df[\"Total_Trans_Amt\"] / df[\"Total_Trans_Ct\"]\n",
        "\n",
        "# 5. Tenure Category based on Months_on_book\n",
        "df[\"tenure_category\"] = pd.cut(\n",
        "    df[\"Months_on_book\"],\n",
        "    bins=[0, 12, 24, 36, 48, 60],\n",
        "    labels=[\"<1 Year\", \"1-2 Years\", \"2-3 Years\", \"3-4 Years\", \"4-5 Years\"]\n",
        ")\n",
        "\n",
        "# Quick check of the new features\n",
        "df[[\"credit_limit_usage\", \"avg_balance\", \"trans_per_month\", \"avg_amt_per_trans\", \"tenure_category\"]].head()"
      ]
    },
    {
      "cell_type": "markdown",
      "metadata": {},
      "source": [
        "### Check your actual column names "
      ]
    },
    {
      "cell_type": "code",
      "execution_count": 33,
      "metadata": {},
      "outputs": [
        {
          "name": "stdout",
          "output_type": "stream",
          "text": [
            "['Customer_Age', 'Dependent_count', 'Months_on_book', 'Total_Relationship_Count', 'Months_Inactive_12_mon', 'Contacts_Count_12_mon', 'Credit_Limit', 'Total_Revolving_Bal', 'Avg_Open_To_Buy', 'Total_Amt_Chng_Q4_Q1', 'Total_Trans_Amt', 'Total_Trans_Ct', 'Total_Ct_Chng_Q4_Q1', 'Avg_Utilization_Ratio', 'Churn', 'Gender_M', 'Education_Level_Doctorate', 'Education_Level_Graduate', 'Education_Level_High School', 'Education_Level_Post-Graduate', 'Education_Level_Uneducated', 'Education_Level_Unknown', 'Marital_Status_Married', 'Marital_Status_Single', 'Marital_Status_Unknown', 'Income_Category_$40K - $60K', 'Income_Category_$60K - $80K', 'Income_Category_$80K - $120K', 'Income_Category_Less than $40K', 'Income_Category_Unknown', 'Card_Category_Gold', 'Card_Category_Platinum', 'Card_Category_Silver', 'credit_limit_usage', 'avg_balance', 'trans_per_month', 'avg_amt_per_trans', 'tenure_category']\n"
          ]
        }
      ],
      "source": [
        "print(df.columns.tolist())"
      ]
    },
    {
      "cell_type": "code",
      "execution_count": 37,
      "metadata": {},
      "outputs": [],
      "source": [
        "# Lowercase all column names\n",
        "df.columns = df.columns.str.lower()"
      ]
    },
    {
      "cell_type": "markdown",
      "metadata": {},
      "source": [
        "# Combine columns into one column\n",
        "\n",
        "* Education Level\n",
        "* Income Category\n",
        "* Marital Status\n",
        "* Card Category"
      ]
    },
    {
      "cell_type": "code",
      "execution_count": null,
      "metadata": {},
      "outputs": [],
      "source": [
        "# Combine education level columns into a single column\n",
        "education_cols = [\n",
        "    'education_level_doctorate',\n",
        "    'education_level_graduate',\n",
        "    'education_level_high school',\n",
        "    'education_level_uneducated',\n",
        "    'education_level_unknown',\n",
        "    'education_level_post-graduate'\n",
        "]\n",
        "\n",
        "# Create the combined column\n",
        "df['education_level'] = df[education_cols].idxmax(axis=1)\n",
        "\n",
        "# Clean the new column by removing the prefix\n",
        "df['education_level'] = df['education_level'].str.replace('education_level_', '', regex=False)\n",
        "\n",
        "# Drop the old education columns\n",
        "df.drop(columns=education_cols, inplace=True)"
      ]
    },
    {
      "cell_type": "code",
      "execution_count": 40,
      "metadata": {},
      "outputs": [],
      "source": [
        "# Combine the income category columns into a single column\n",
        "income_cols = [\n",
        "    'income_category_$40k - $60k',\n",
        "    'income_category_$60k - $80k',\n",
        "    'income_category_$80k - $120k',\n",
        "    'income_category_less than $40k',\n",
        "    'income_category_unknown'\n",
        "]\n",
        "\n",
        "# Create the new combined column\n",
        "df['income_category'] = df[income_cols].idxmax(axis=1)\n",
        "\n",
        "# Clean the new column name\n",
        "df['income_category'] = df['income_category'].str.replace('income_category_', '', regex=False)\n",
        "\n",
        "# Drop the old income columns\n",
        "df.drop(columns=income_cols, inplace=True)"
      ]
    },
    {
      "cell_type": "code",
      "execution_count": 41,
      "metadata": {},
      "outputs": [],
      "source": [
        "# Combine the marital status columns into a single column\n",
        "marital_cols = [\n",
        "    'marital_status_married',\n",
        "    'marital_status_single',\n",
        "    'marital_status_unknown'\n",
        "]\n",
        "\n",
        "# Combine into one column\n",
        "df['marital_status'] = df[marital_cols].idxmax(axis=1)\n",
        "\n",
        "# Clean the new column values\n",
        "df['marital_status'] = df['marital_status'].str.replace('marital_status_', '', regex=False)\n",
        "\n",
        "# Drop the old marital status columns\n",
        "df.drop(columns=marital_cols, inplace=True)"
      ]
    },
    {
      "cell_type": "code",
      "execution_count": 42,
      "metadata": {},
      "outputs": [],
      "source": [
        "# Combine the card category columns into a single column\n",
        "card_cols = [\n",
        "    'card_category_gold',\n",
        "    'card_category_platinum',\n",
        "    'card_category_silver'\n",
        "]\n",
        "\n",
        "# Combine the one-hot encoded columns\n",
        "df['card_category'] = df[card_cols].idxmax(axis=1)\n",
        "\n",
        "# Clean the values by removing the prefix\n",
        "df['card_category'] = df['card_category'].str.replace('card_category_', '', regex=False)\n",
        "\n",
        "# Drop the old card category columns\n",
        "df.drop(columns=card_cols, inplace=True)"
      ]
    },
    {
      "cell_type": "markdown",
      "metadata": {},
      "source": [
        "# Group by Age\n",
        "### Age bins:\n",
        "* 35 and under\n",
        "* 36–45\n",
        "* 46–55\n",
        "* 56–65\n",
        "* Over 65"
      ]
    },
    {
      "cell_type": "code",
      "execution_count": 43,
      "metadata": {},
      "outputs": [],
      "source": [
        "# Define bins and labels for the 'age' column\n",
        "bins = [0, 35, 45, 55, 65, float('inf')]\n",
        "labels = ['35 and under', '36-45', '46-55', '56-65', 'Over 65']\n",
        "\n",
        "# Create the new column\n",
        "df['age_group'] = pd.cut(df['customer_age'], bins=bins, labels=labels, right=True)"
      ]
    },
    {
      "cell_type": "markdown",
      "metadata": {},
      "source": [
        "# Final Clean-up & Export"
      ]
    },
    {
      "cell_type": "code",
      "execution_count": 44,
      "metadata": {},
      "outputs": [
        {
          "name": "stdout",
          "output_type": "stream",
          "text": [
            "<class 'pandas.core.frame.DataFrame'>\n",
            "RangeIndex: 10127 entries, 0 to 10126\n",
            "Data columns (total 26 columns):\n",
            " #   Column                    Non-Null Count  Dtype   \n",
            "---  ------                    --------------  -----   \n",
            " 0   customer_age              10127 non-null  int64   \n",
            " 1   dependent_count           10127 non-null  int64   \n",
            " 2   months_on_book            10127 non-null  int64   \n",
            " 3   total_relationship_count  10127 non-null  int64   \n",
            " 4   months_inactive_12_mon    10127 non-null  int64   \n",
            " 5   contacts_count_12_mon     10127 non-null  int64   \n",
            " 6   credit_limit              10127 non-null  float64 \n",
            " 7   total_revolving_bal       10127 non-null  int64   \n",
            " 8   avg_open_to_buy           10127 non-null  float64 \n",
            " 9   total_amt_chng_q4_q1      10127 non-null  float64 \n",
            " 10  total_trans_amt           10127 non-null  int64   \n",
            " 11  total_trans_ct            10127 non-null  int64   \n",
            " 12  total_ct_chng_q4_q1       10127 non-null  float64 \n",
            " 13  avg_utilization_ratio     10127 non-null  float64 \n",
            " 14  churn                     10127 non-null  int64   \n",
            " 15  gender_m                  10127 non-null  bool    \n",
            " 16  credit_limit_usage        10127 non-null  float64 \n",
            " 17  avg_balance               10127 non-null  float64 \n",
            " 18  trans_per_month           10127 non-null  float64 \n",
            " 19  avg_amt_per_trans         10127 non-null  float64 \n",
            " 20  tenure_category           10127 non-null  category\n",
            " 21  education_level           10127 non-null  object  \n",
            " 22  income_category           10127 non-null  object  \n",
            " 23  marital_status            10127 non-null  object  \n",
            " 24  card_category             10127 non-null  object  \n",
            " 25  age_group                 10127 non-null  category\n",
            "dtypes: bool(1), category(2), float64(9), int64(10), object(4)\n",
            "memory usage: 1.8+ MB\n"
          ]
        }
      ],
      "source": [
        "# Final check for missing values\n",
        "df.isnull().sum()\n",
        "\n",
        "# Check final shape and data types\n",
        "df.info()"
      ]
    },
    {
      "cell_type": "code",
      "execution_count": 46,
      "metadata": {},
      "outputs": [],
      "source": [
        "df.to_csv(\"../data/inputs/cleaned/BankChurners_cleaned.csv\", index=False)"
      ]
    }
  ],
  "metadata": {
    "accelerator": "GPU",
    "colab": {
      "name": "Data Practitioner Jupyter Notebook.ipynb",
      "provenance": [],
      "toc_visible": true
    },
    "kernelspec": {
      "display_name": ".venv",
      "language": "python",
      "name": "python3"
    },
    "language_info": {
      "codemirror_mode": {
        "name": "ipython",
        "version": 3
      },
      "file_extension": ".py",
      "mimetype": "text/x-python",
      "name": "python",
      "nbconvert_exporter": "python",
      "pygments_lexer": "ipython3",
      "version": "3.12.8"
    },
    "orig_nbformat": 2
  },
  "nbformat": 4,
  "nbformat_minor": 2
}
